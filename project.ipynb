{
 "cells": [
  {
   "cell_type": "markdown",
   "metadata": {},
   "source": [
    "# Project: Householder QR does in place on ndarrays\n",
    "\n",
    "Ryan Dalton"
   ]
  },
  {
   "cell_type": "markdown",
   "metadata": {},
   "source": [
    "## Background of the package\n",
    "The repo I have chosen to study is about calculating the in-place QR decomposition of an ndarray. The algorithm they use is Householder triangularization. We study this concept in a similar fasion using it to calculate QR decompositions of other numpy arrays but this process is refined using this method/repo.\n",
    "\n",
    "Directly from the README of \"ndarray-householder-qr\" it states the pseudocode for this algorithm:\n",
    "![](pseudocode.png)\n",
    "\n",
    "This algorithm computes both R and the reflected Q array in place which means it does not create any additional arrays to store copies. It does this by storing all the necessary results R, diagonal of R, and Househodler reflectors throughout the array A.\n",
    "\n",
    "It also normalizes these values to create quicker computations afterwards.\n",
    "\n",
    "## About the software\n",
    "Suppose Ax=b does not have a solution. What is the best approximate solution? This QR decomposition method is meant to aid you in finding the least squares solution. The least squares solution is one where the sum of the squares of the difference b-Ax is as low as possible. Thus giving us a very close soltuion to Ax=b.\n",
    "\n",
    "The code is built on javascript which I don't believe there is a kernel for on this JupyterHub however I will describe an exammple of the code's usage:\n",
    "Say we are examining the function y = a0*x + a1 given the data points (0,1) (1,2) (2,3). Create a ndarray of the x variables as well as the y variables. Now we can use the qr.factor(A,d) function which does the main factorization of the input array. A is typically a vandermonde matrix composed of the x ndarray and is given the width of vectors, in this case two one for each variable x and y.\n",
    "\n",
    "Now A is returned having the Householder reflectors, R, and the diagonal of R all stored in this matrix to be used later by other function written in this package.\n",
    "\n",
    "You could then simply use qr.solve(A,d,x) to return a vector that minimizes the norm of Ax-b or in other words is as close to the real soltuion of Ax-b that we could get. A and d are same input as above but x is the length of rows, or number of data inputs.\n",
    "\n",
    "There are other helpful methods such as qr.multiplyByQ(A,x) which in-place computes Q*x. Or qr.construct(A,Q) which reconstructs the matrix Q given A as made by qr.factor()\n",
    "\n",
    "\n",
    "\n",
    "Link to the repo: https://github.com/scijs/ndarray-householder-qr\n",
    "\n",
    "Developed by: Ricky Reusser"
   ]
  }
 ],
 "metadata": {
  "kernelspec": {
   "display_name": "Python 3",
   "language": "python",
   "name": "python3"
  },
  "language_info": {
   "codemirror_mode": {
    "name": "ipython",
    "version": 3
   },
   "file_extension": ".py",
   "mimetype": "text/x-python",
   "name": "python",
   "nbconvert_exporter": "python",
   "pygments_lexer": "ipython3",
   "version": "3.7.3"
  }
 },
 "nbformat": 4,
 "nbformat_minor": 4
}
